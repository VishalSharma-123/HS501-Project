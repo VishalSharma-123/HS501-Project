{
 "cells": [
  {
   "cell_type": "code",
   "execution_count": 38,
   "metadata": {},
   "outputs": [],
   "source": [
    "import pandas as pd"
   ]
  },
  {
   "cell_type": "code",
   "execution_count": 39,
   "metadata": {},
   "outputs": [],
   "source": [
    "df_2019_b = pd.read_excel(\"./newBirth.xlsx\", sheet_name=\"2019\").sort_values(\"state\")\n",
    "df_2015_b = pd.read_excel(\"./newBirth.xlsx\", sheet_name=\"2015\").sort_values(\"state\")\n",
    "df_2005_b = pd.read_excel(\"./newBirth.xlsx\", sheet_name=\"2005\").sort_values(\"state\")\n",
    "df_1998_b = pd.read_excel(\"./newBirth.xlsx\", sheet_name=\"1998\").sort_values(\"state\")\n",
    "df_1992_b = pd.read_excel(\"./newBirth.xlsx\", sheet_name=\"1992\").sort_values(\"state\")"
   ]
  },
  {
   "cell_type": "code",
   "execution_count": 40,
   "metadata": {},
   "outputs": [
    {
     "data": {
      "text/html": [
       "<div>\n",
       "<style scoped>\n",
       "    .dataframe tbody tr th:only-of-type {\n",
       "        vertical-align: middle;\n",
       "    }\n",
       "\n",
       "    .dataframe tbody tr th {\n",
       "        vertical-align: top;\n",
       "    }\n",
       "\n",
       "    .dataframe thead th {\n",
       "        text-align: right;\n",
       "    }\n",
       "</style>\n",
       "<table border=\"1\" class=\"dataframe\">\n",
       "  <thead>\n",
       "    <tr style=\"text-align: right;\">\n",
       "      <th></th>\n",
       "      <th>state</th>\n",
       "      <th>1992</th>\n",
       "    </tr>\n",
       "  </thead>\n",
       "  <tbody>\n",
       "    <tr>\n",
       "      <th>0</th>\n",
       "      <td>andhrapradesh</td>\n",
       "      <td>11517</td>\n",
       "    </tr>\n",
       "    <tr>\n",
       "      <th>23</th>\n",
       "      <td>arunachalpradesh</td>\n",
       "      <td>2728</td>\n",
       "    </tr>\n",
       "    <tr>\n",
       "      <th>1</th>\n",
       "      <td>assam</td>\n",
       "      <td>10409</td>\n",
       "    </tr>\n",
       "    <tr>\n",
       "      <th>2</th>\n",
       "      <td>bihar</td>\n",
       "      <td>19072</td>\n",
       "    </tr>\n",
       "    <tr>\n",
       "      <th>22</th>\n",
       "      <td>delhi</td>\n",
       "      <td>9869</td>\n",
       "    </tr>\n",
       "  </tbody>\n",
       "</table>\n",
       "</div>"
      ],
      "text/plain": [
       "               state   1992\n",
       "0      andhrapradesh  11517\n",
       "23  arunachalpradesh   2728\n",
       "1              assam  10409\n",
       "2              bihar  19072\n",
       "22             delhi   9869"
      ]
     },
     "execution_count": 40,
     "metadata": {},
     "output_type": "execute_result"
    }
   ],
   "source": [
    "df_1992_b.head()"
   ]
  },
  {
   "cell_type": "code",
   "execution_count": 41,
   "metadata": {},
   "outputs": [
    {
     "data": {
      "text/html": [
       "<div>\n",
       "<style scoped>\n",
       "    .dataframe tbody tr th:only-of-type {\n",
       "        vertical-align: middle;\n",
       "    }\n",
       "\n",
       "    .dataframe tbody tr th {\n",
       "        vertical-align: top;\n",
       "    }\n",
       "\n",
       "    .dataframe thead th {\n",
       "        text-align: right;\n",
       "    }\n",
       "</style>\n",
       "<table border=\"1\" class=\"dataframe\">\n",
       "  <thead>\n",
       "    <tr style=\"text-align: right;\">\n",
       "      <th></th>\n",
       "      <th>state</th>\n",
       "      <th>2019</th>\n",
       "      <th>2015</th>\n",
       "      <th>2005</th>\n",
       "      <th>1998</th>\n",
       "      <th>1992</th>\n",
       "    </tr>\n",
       "  </thead>\n",
       "  <tbody>\n",
       "    <tr>\n",
       "      <th>0</th>\n",
       "      <td>andhrapradesh</td>\n",
       "      <td>18538</td>\n",
       "      <td>18311</td>\n",
       "      <td>13669</td>\n",
       "      <td>10933</td>\n",
       "      <td>11517</td>\n",
       "    </tr>\n",
       "    <tr>\n",
       "      <th>1</th>\n",
       "      <td>arunachalpradesh</td>\n",
       "      <td>33319</td>\n",
       "      <td>26936</td>\n",
       "      <td>3833</td>\n",
       "      <td>3219</td>\n",
       "      <td>2728</td>\n",
       "    </tr>\n",
       "    <tr>\n",
       "      <th>2</th>\n",
       "      <td>assam</td>\n",
       "      <td>57933</td>\n",
       "      <td>51952</td>\n",
       "      <td>7532</td>\n",
       "      <td>9893</td>\n",
       "      <td>10409</td>\n",
       "    </tr>\n",
       "    <tr>\n",
       "      <th>3</th>\n",
       "      <td>bihar</td>\n",
       "      <td>97677</td>\n",
       "      <td>109109</td>\n",
       "      <td>10448</td>\n",
       "      <td>23056</td>\n",
       "      <td>19072</td>\n",
       "    </tr>\n",
       "    <tr>\n",
       "      <th>4</th>\n",
       "      <td>delhi</td>\n",
       "      <td>17215</td>\n",
       "      <td>9281</td>\n",
       "      <td>6484</td>\n",
       "      <td>6837</td>\n",
       "      <td>9869</td>\n",
       "    </tr>\n",
       "  </tbody>\n",
       "</table>\n",
       "</div>"
      ],
      "text/plain": [
       "              state   2019    2015   2005   1998   1992\n",
       "0     andhrapradesh  18538   18311  13669  10933  11517\n",
       "1  arunachalpradesh  33319   26936   3833   3219   2728\n",
       "2             assam  57933   51952   7532   9893  10409\n",
       "3             bihar  97677  109109  10448  23056  19072\n",
       "4             delhi  17215    9281   6484   6837   9869"
      ]
     },
     "execution_count": 41,
     "metadata": {},
     "output_type": "execute_result"
    }
   ],
   "source": [
    "df_b_combined=df_2019_b.merge(df_2015_b, on=\"state\", how=\"inner\")\n",
    "df_b_combined = df_b_combined.merge(df_2005_b, on=\"state\", how=\"inner\")\n",
    "df_b_combined = df_b_combined.merge(df_1998_b, on=\"state\", how=\"inner\")\n",
    "df_b_combined = df_b_combined.merge(df_1992_b, on=\"state\", how=\"inner\")\n",
    "df_b_combined = df_b_combined.reset_index(drop=True)\n",
    "df_b_combined.head()"
   ]
  },
  {
   "cell_type": "code",
   "execution_count": 42,
   "metadata": {},
   "outputs": [],
   "source": [
    "df_b_combined.to_excel(\"data_birth_combined.xlsx\", index=False)"
   ]
  },
  {
   "cell_type": "code",
   "execution_count": 43,
   "metadata": {},
   "outputs": [],
   "source": [
    "df_2019_d = pd.read_excel(\"./data_death.xlsx\", sheet_name=\"2019\").sort_values(\"state\")\n",
    "df_2015_d = pd.read_excel(\"./data_death.xlsx\", sheet_name=\"2015\").sort_values(\"state\")\n",
    "df_2005_d = pd.read_excel(\"./data_death.xlsx\", sheet_name=\"2005\").sort_values(\"state\")\n",
    "df_1998_d = pd.read_excel(\"./data_death.xlsx\", sheet_name=\"1998\").sort_values(\"state\")\n",
    "df_1992_d = pd.read_excel(\"./data_death.xlsx\", sheet_name=\"1992\").sort_values(\"state\")"
   ]
  },
  {
   "cell_type": "code",
   "execution_count": 44,
   "metadata": {},
   "outputs": [
    {
     "data": {
      "text/html": [
       "<div>\n",
       "<style scoped>\n",
       "    .dataframe tbody tr th:only-of-type {\n",
       "        vertical-align: middle;\n",
       "    }\n",
       "\n",
       "    .dataframe tbody tr th {\n",
       "        vertical-align: top;\n",
       "    }\n",
       "\n",
       "    .dataframe thead th {\n",
       "        text-align: right;\n",
       "    }\n",
       "</style>\n",
       "<table border=\"1\" class=\"dataframe\">\n",
       "  <thead>\n",
       "    <tr style=\"text-align: right;\">\n",
       "      <th></th>\n",
       "      <th>state</th>\n",
       "      <th>2019</th>\n",
       "      <th>2015</th>\n",
       "      <th>2005</th>\n",
       "      <th>1998</th>\n",
       "      <th>1992</th>\n",
       "    </tr>\n",
       "  </thead>\n",
       "  <tbody>\n",
       "    <tr>\n",
       "      <th>0</th>\n",
       "      <td>andhrapradesh</td>\n",
       "      <td>663</td>\n",
       "      <td>735</td>\n",
       "      <td>547</td>\n",
       "      <td>671</td>\n",
       "      <td>664</td>\n",
       "    </tr>\n",
       "    <tr>\n",
       "      <th>1</th>\n",
       "      <td>arunachalpradesh</td>\n",
       "      <td>236</td>\n",
       "      <td>330</td>\n",
       "      <td>155</td>\n",
       "      <td>87</td>\n",
       "      <td>92</td>\n",
       "    </tr>\n",
       "    <tr>\n",
       "      <th>2</th>\n",
       "      <td>assam</td>\n",
       "      <td>1414</td>\n",
       "      <td>1876</td>\n",
       "      <td>417</td>\n",
       "      <td>353</td>\n",
       "      <td>638</td>\n",
       "    </tr>\n",
       "    <tr>\n",
       "      <th>3</th>\n",
       "      <td>bihar</td>\n",
       "      <td>4033</td>\n",
       "      <td>4486</td>\n",
       "      <td>547</td>\n",
       "      <td>1192</td>\n",
       "      <td>1069</td>\n",
       "    </tr>\n",
       "    <tr>\n",
       "      <th>4</th>\n",
       "      <td>delhi</td>\n",
       "      <td>350</td>\n",
       "      <td>211</td>\n",
       "      <td>242</td>\n",
       "      <td>223</td>\n",
       "      <td>389</td>\n",
       "    </tr>\n",
       "  </tbody>\n",
       "</table>\n",
       "</div>"
      ],
      "text/plain": [
       "              state  2019  2015  2005  1998  1992\n",
       "0     andhrapradesh   663   735   547   671   664\n",
       "1  arunachalpradesh   236   330   155    87    92\n",
       "2             assam  1414  1876   417   353   638\n",
       "3             bihar  4033  4486   547  1192  1069\n",
       "4             delhi   350   211   242   223   389"
      ]
     },
     "execution_count": 44,
     "metadata": {},
     "output_type": "execute_result"
    }
   ],
   "source": [
    "df_d_combined=df_2019_d.merge(df_2015_d, on=\"state\", how=\"inner\")\n",
    "df_d_combined = df_d_combined.merge(df_2005_d, on=\"state\", how=\"inner\")\n",
    "df_d_combined = df_d_combined.merge(df_1998_d, on=\"state\", how=\"inner\")\n",
    "df_d_combined = df_d_combined.merge(df_1992_d, on=\"state\", how=\"inner\")\n",
    "df_d_combined = df_d_combined.reset_index(drop=True)\n",
    "df_d_combined.head()"
   ]
  },
  {
   "cell_type": "code",
   "execution_count": 45,
   "metadata": {},
   "outputs": [],
   "source": [
    "df_d_combined.to_excel(\"data_death_combined.xlsx\", index=False)"
   ]
  },
  {
   "cell_type": "code",
   "execution_count": null,
   "metadata": {},
   "outputs": [],
   "source": []
  }
 ],
 "metadata": {
  "kernelspec": {
   "display_name": "Python 3",
   "language": "python",
   "name": "python3"
  },
  "language_info": {
   "codemirror_mode": {
    "name": "ipython",
    "version": 3
   },
   "file_extension": ".py",
   "mimetype": "text/x-python",
   "name": "python",
   "nbconvert_exporter": "python",
   "pygments_lexer": "ipython3",
   "version": "3.10.6"
  }
 },
 "nbformat": 4,
 "nbformat_minor": 2
}
